{
 "cells": [
  {
   "cell_type": "markdown",
   "metadata": {},
   "source": [
    "## Assignment 4 -- Applying Machine Learning Algorithms\n",
    "\n",
    "You will be given a data set, and will apply the techniques we have studied in class to predict a numeric response variable, and to evaluate alternative solutions.\n",
    "\n",
    "The steps will be\n",
    "\n",
    "1.  Exploratory data analysis and evaluation\n",
    "  * Find and correct outliers and missing values\n",
    "  * Find nonlinear relationships between the independent variables and the dependent variable, and transform the input appropriately\n",
    "  * Find correlation in the independent variables and decide how if at all to address it\n",
    "  \n",
    "\n",
    "2. Apply learning techniques.  In each case you will train the algorithm and evaluate it using the *test* $R^2$ statistic.  You will explore different hyperparameter values to find the model you think will maximize test $R^2$ for an evaluation data set.  You will do this for\n",
    "  * Linear regression exploring different variable sets using regular stepwise regression, Lasso, and Ridge Regression\n",
    "  * Decision tree regression exploring different tree depths\n",
    "  * Random forests and boosting exploring different parameter sets\n",
    "  * Neural networks \n",
    "\n",
    "\n",
    "3. Choosing the best method.  You will choose one algorithm and parameter settings you are most confident with, and write a function that enables it to evaluate a new data set.\n",
    "\n",
    "4. When I evaluate your solution, I will call this function on a new set of data, and score your solution (partially) on its results\n",
    "\n",
    "Every part of this assignment has been covered in the notebooks we have looked at in class, so that should be your first source of information and inspiration. \n",
    "\n",
    "<b><span style=\"color: blue\">Cells in blue indicate you should fill in your results -- either text or code.</span></b>\n",
    "\n",
    "When you submit your code, please fill in the cells asked for, but do not add new cells or change the other cells.\n",
    "\n",
    "I will run the cells in your submitted notebook in sequence, so make sure things are in the proper order, all the needed libraries have been imported, etc."
   ]
  },
  {
   "cell_type": "markdown",
   "metadata": {},
   "source": [
    "----------------------------\n",
    "#### Note on your prediction functions\n",
    "\n",
    "You will notice that for each technique, you are asked to provide a \"prediction\" function that takes an **X** matrix as input.  This **X** matrix will be in the format of the original data set you loaded.  So if in your data cleaning phase you added or deleted or transformed column values, each of these prediction functions must make the same transformations on its input prior to calling you model.\n"
   ]
  },
  {
   "cell_type": "markdown",
   "metadata": {},
   "source": [
    "---------------------------------------\n",
    "\n",
    "### Loading and Cleaning the Data Set\n",
    "\n",
    "The data set is in a file named **data_set.csv** -- it has 11 independent variables -- some are numeric and some categorical -- and a single numeric response variable $y$.\n",
    "\n",
    "In the first cleaning / analysis phase you should do the following\n",
    "1. Look for outlier values.  When you find outliers, you can do one of two things\n",
    "  * Throw away the data row altogether.  If many variables in the row seem uncommon, it is probably best to delete the row.\n",
    "  * Replace the outlier with a \"reasonable\" value -- probably the mean or median value for that variable.   The reasoning is that the benefit of keeping the row outweighs the error introduced by having a made-up value in one variable\n",
    "2. Look for missing values.  Most algorithms will throw away data rows that have *any* missing value.  You can just delete the row (especially if many values are missing) or assign it a \"reasonable\" value -- probably the mean value for that variable.  If there is an attribute that has many missing values, it is probably best to delete the whole column\n",
    "3. Look for nonlinear relationships.   Most important is finding nonlinear relationships between one of the $x$ variables, and the $y$ variable.  For example, maybe $y$ depends on $x^2$ or $\\log(x)$ rather than on $x$. In that case you need to guess at that relationship, and replace $x$ with a transformed value.  For example if it looks like $y$ depends on $x^2$ then just a column of $x^2$ values.  The easiest way to see these relationships is to do a pair plot between your X variables and y, including a trend line.  \"Well behaved\" $x$ variables tend to show no pattern except for (roughly) following the trend line.  If you are seeing other shapes, or sudden jumps in the behavior of $y$ as $x$ changes, something nonlinear is going on.\n",
    "4. Look for correlations among the $x$ variables.  If you find a correlation you may want to delete one of the correlated variables, but it is not necessary -- you will have to experiment to see if it improves your predictions.  To find correlations, you can use the pair plot, or a correlation matrix, or a heatmap -- there are examples of all of these in the class notebooks.\n",
    "5. Transform categorical variables to dummy (0/1 coded) variables\n",
    "\n",
    "The result of this phase should be a matrix ${\\bf X}$ and a vector ${\\bf y}$ that comprise your training set.\n",
    "\n",
    "Remember though, if you ever need to use your learned function to a new ${\\bf X}$ data set, you need to transform the input ${\\bf X}$ matrix the same way your transformed your test set -- otherwise your learned function will give bad results.\n",
    "\n",
    "Although it looks like this cleaning phase happens before any analysis/learning, the two processes are interleaved.  Start with a simple linear regression model and do minimal cleaning on your data set, just to the point the LR model works.  Then you can test more subtle transformations to see if they make your models perform better."
   ]
  },
  {
   "cell_type": "code",
   "execution_count": 1,
   "metadata": {},
   "outputs": [],
   "source": [
    "# Your data cleaning code goes here.  The result should be X and y matrices that can be used to run the models you build below\n",
    "import pandas as pd\n",
    "import numpy as np\n",
    "import seaborn as sns #statistic/visualization\n",
    "import matplotlib.pyplot as plt\n",
    "import warnings\n",
    "warnings.filterwarnings(\"ignore\")\n",
    "\n",
    "%matplotlib inline\n",
    "plt.rcParams['figure.figsize'] = (12, 6)\n",
    "plt.rcParams['font.size'] = 14\n"
   ]
  },
  {
   "cell_type": "code",
   "execution_count": 2,
   "metadata": {},
   "outputs": [],
   "source": [
    "# Get rid of rows with invalid values\n",
    "def correctDummies(df):\n",
    "    df['x4'] = df['x4'].replace('f' , 'false')\n",
    "    df['x4'] = df['x4'].replace('t', 'true')\n",
    "    df['x4'] = df['x4'].replace('rue', 'true')\n",
    "    df['x3'] = df['x3'].fillna((df['x3']).mean()) # replace all missing values in x3 with mean\n",
    "    df = df.dropna(subset = ['x9']) # too many na's in x9 so drop all of them\n",
    "    df = df[df.x2.isin(['r', 'b', 'y'])]\n",
    "    return df\n",
    "\n",
    "#  Add the dummy variables and get rid of x2 and x4.   Has to be done after correctDummies!\n",
    "def convertDummies(df):\n",
    "    dfnew = df.copy()\n",
    "    x2_dummies = pd.get_dummies(dfnew.x2, prefix='x2')\n",
    "    x4_dummies = pd.get_dummies(dfnew.x4, prefix='x4')\n",
    "    \n",
    "    x2_dummies.drop(x2_dummies.columns[0], axis=1, inplace=True)\n",
    "    x4_dummies.drop(x4_dummies.columns[0], axis=1, inplace=True)\n",
    "    \n",
    "    dfnew.drop(['x2','x4'], axis=1, inplace=True)\n",
    "    \n",
    "    dfnew = pd.concat([dfnew, x2_dummies], axis=1)\n",
    "    dfnew = pd.concat([dfnew, x4_dummies], axis=1)\n",
    "    return dfnew\n",
    "\n",
    "def deal_with_nonlinearities(df):\n",
    "    df['x5_big'] = df['x5']\n",
    "    df.loc[df['x5'] <= 410, 'x5_big'] = 0.0\n",
    "    df['x5_small'] = df['x5']\n",
    "    df.loc[df['x5'] > 410, 'x5_small'] = 0.0\n",
    "    \n",
    "    df['x8_square'] = df['x8'] * df['x8']\n",
    "    \n",
    "    df.drop(['x5'],axis = 1, inplace = True)\n",
    "    df.drop(['x8'],axis = 1, inplace = True)\n",
    "    \n",
    "    return df\n",
    "    "
   ]
  },
  {
   "cell_type": "code",
   "execution_count": 3,
   "metadata": {},
   "outputs": [],
   "source": [
    "from scipy import stats\n",
    "\n",
    "def cleandf(df):\n",
    "    df.dropna(inplace=True)\n",
    "    df = correctDummies(df)\n",
    "    df = convertDummies(df)\n",
    "    df = deal_with_nonlinearities(df)\n",
    "    df = df[(np.abs(stats.zscore(df)) < 3).all(axis=1)]\n",
    "    return df"
   ]
  },
  {
   "cell_type": "code",
   "execution_count": 4,
   "metadata": {},
   "outputs": [],
   "source": [
    "file_location = 'data_set_test.csv'\n",
    "df = pd.read_csv(file_location, dtype={'x4': str})\n",
    "\n",
    "df = cleandf(df)\n",
    "y = df.y\n",
    "X = df.drop(['y'], axis=1, inplace=False)\n"
   ]
  },
  {
   "cell_type": "code",
   "execution_count": 5,
   "metadata": {},
   "outputs": [
    {
     "name": "stdout",
     "output_type": "stream",
     "text": [
      "(6317, 13) (6317,)\n",
      "(2106, 13) (2106,)\n"
     ]
    }
   ],
   "source": [
    "from sklearn.model_selection import train_test_split\n",
    "\n",
    "X_train, X_test, y_train, y_test = train_test_split(X, y)\n",
    "\n",
    "print(X_train.shape, y_train.shape)\n",
    "print(X_test.shape, y_test.shape)"
   ]
  },
  {
   "cell_type": "markdown",
   "metadata": {},
   "source": [
    "-----------------------------\n",
    "#### <span style=\"color: blue\">*Your Summary of EDA / Cleaning Phase*</span>\n",
    "\n",
    "<span style=\"color: blue\">\n",
    "\n",
    "*In this markdown cell please write up the transformations you made to the data set, and why you decided to make those transformations.*\n",
    "\n",
    "</span>\n",
    "\n",
    "---------------------------------"
   ]
  },
  {
   "cell_type": "markdown",
   "metadata": {},
   "source": [
    "In the following cells you will try various learning techniques on your data set.  For each one you will finish with a prediction function for your best model.  For example for linear regression you will define a function **linear_regression_predict(X)** which will produce the predicted $y$ values for your model.  Remember that the **X** argument is un-transformed."
   ]
  },
  {
   "cell_type": "markdown",
   "metadata": {},
   "source": [
    "-----------------------------------------\n",
    "### Linear Regression\n",
    "\n",
    "In this section you will try linear regression, and also use Lasso, Ridge Regression and Forward Stepwise Regression to find the set of variables that give you the best $R^2$ score.   You will produce a markdown summary, then implementations of your four models"
   ]
  },
  {
   "cell_type": "markdown",
   "metadata": {},
   "source": [
    "\n",
    "#### <span style=\"color: blue\">Summary of Your Linear Regression Models</span>\n",
    "<span style=\"color: blue\">\n",
    "In this markdown cell, summarize your results in building linear regression models for this data set.\n",
    "For each method (full-model regression, forward stepwise regression, Lasso, and Ridge regression) report on the best model:  the variables in the model, the adjusted $R^2$, the estimated test accuracy, and in the case of Lasso, the optimal $\\alpha$ value.  Can you explain the differences in the structure and performance of the alternative models?\n",
    "</span>"
   ]
  },
  {
   "cell_type": "code",
   "execution_count": 12,
   "metadata": {},
   "outputs": [
    {
     "name": "stdout",
     "output_type": "stream",
     "text": [
      "Training MSE\n",
      "296860890.4790123\n",
      "0.9577781747538766\n",
      "Sample Test MSE\n",
      "309621414.45298856\n",
      "0.9558749285490428\n",
      "Accuracy: \n",
      "0.9573183719560532\n",
      "0.9573183719560532\n"
     ]
    }
   ],
   "source": [
    "# This code cell should define a function linear_regression_predict(x_matrix)\n",
    "from sklearn.linear_model import LinearRegression\n",
    "from sklearn import metrics\n",
    "\n",
    "lr = LinearRegression()\n",
    "lr.fit(X_train, y_train)\n",
    "\n",
    "def linear_regression_predict(xdf):\n",
    "    return lr.predict(xdf)\n",
    "\n",
    "y_train_predicted = linear_regression_predict(X_train)\n",
    "y_test_predicted = linear_regression_predict(X_test)\n",
    "y_pred = linear_regression_predict(X)\n",
    "\n",
    "print(\"Training MSE\")\n",
    "print(metrics.mean_squared_error(y_train, y_train_predicted))\n",
    "print(metrics.r2_score(y_train, y_train_predicted))\n",
    "print(\"Sample Test MSE\")\n",
    "print(metrics.mean_squared_error(y_test, y_test_predicted))\n",
    "print(metrics.r2_score(y_test, y_test_predicted))\n",
    "\n",
    "#sum(treeclf.predict(X) == y) / len(y) ------ for accuracy\n",
    "print(\"Accuracy: \")\n",
    "print(lr.score(X,y))\n",
    "print(metrics.r2_score(y, y_pred))\n",
    "#print(y_pred)"
   ]
  },
  {
   "cell_type": "code",
   "execution_count": 10,
   "metadata": {},
   "outputs": [
    {
     "name": "stdout",
     "output_type": "stream",
     "text": [
      "Training MSE\n",
      "297062087.0868931\n",
      "0.9577495590342231\n",
      "Sample Test MSE\n",
      "308397042.39150476\n",
      "0.9560494174641294\n",
      "Accuracy: \n",
      "0.0\n",
      "0       289137.019149\n",
      "1       172006.006951\n",
      "2       130036.827100\n",
      "3       245126.168275\n",
      "4       223268.342115\n",
      "5       120419.754465\n",
      "6       110900.862958\n",
      "8       180929.276800\n",
      "9       234406.384877\n",
      "11      118354.667763\n",
      "12      296571.953643\n",
      "13      300696.396251\n",
      "14      300403.741852\n",
      "16      111158.879553\n",
      "17      220816.391709\n",
      "18      324475.514182\n",
      "19      254340.021077\n",
      "20      260842.031022\n",
      "21      339023.462337\n",
      "22      240674.175018\n",
      "23      241561.956645\n",
      "24      442449.069894\n",
      "25      328351.052976\n",
      "26      173396.626216\n",
      "27      100577.207540\n",
      "28      272966.586412\n",
      "29      102156.162632\n",
      "30      250243.801746\n",
      "31      171703.851805\n",
      "32      281397.989468\n",
      "            ...      \n",
      "9967    369752.226750\n",
      "9968    214207.945710\n",
      "9969    287293.085054\n",
      "9970    188192.297365\n",
      "9971    299861.536796\n",
      "9972    183572.421095\n",
      "9973    327009.643262\n",
      "9974    210840.654838\n",
      "9975    173194.939618\n",
      "9976    263019.500088\n",
      "9977    173076.646052\n",
      "9978    108699.870051\n",
      "9979    282017.401438\n",
      "9980    169853.758287\n",
      "9981    288789.588076\n",
      "9982     97238.479282\n",
      "9983    214599.661023\n",
      "9984    233066.333732\n",
      "9985    208846.830435\n",
      "9986    226455.392652\n",
      "9987    296582.282105\n",
      "9988    207822.757465\n",
      "9990    154320.773724\n",
      "9993    223596.680240\n",
      "9994    275229.319538\n",
      "9995    394655.022104\n",
      "9996    333255.245708\n",
      "9997    191692.974127\n",
      "9998    343318.881167\n",
      "9999    312192.734525\n",
      "Length: 8423, dtype: float64\n"
     ]
    }
   ],
   "source": [
    "# This code cell should define a function stepwise_regression_predict(x_matrix)\n",
    "import statsmodels.formula.api as smf\n",
    "from sklearn import metrics\n",
    "from sklearn.linear_model import LinearRegression\n",
    "\n",
    "def forward_selected(data, response):\n",
    "    \n",
    "    remaining = set(data.columns)\n",
    "    remaining.remove(response)\n",
    "    selected = []\n",
    "    current_score, best_new_score = 0.0, 0.0\n",
    "    \n",
    "    while remaining and current_score == best_new_score:\n",
    "        scores_with_candidates = []\n",
    "        for candidate in remaining:\n",
    "            formula = \"{} ~ {} + 1\".format(response,\n",
    "                                           ' + '.join(selected + [candidate]))\n",
    "            score = smf.ols(formula, data).fit().rsquared_adj\n",
    "            scores_with_candidates.append((score, candidate))\n",
    "        scores_with_candidates.sort()\n",
    "        best_new_score, best_candidate = scores_with_candidates.pop()\n",
    "                \n",
    "        if current_score < best_new_score:\n",
    "            remaining.remove(best_candidate)\n",
    "            selected.append(best_candidate)\n",
    "            current_score = best_new_score\n",
    "    \n",
    "    formula = \"{} ~ {} + 1\".format(response,' + '.join(selected))\n",
    "    model = smf.ols(formula, data).fit()\n",
    "    \n",
    "    return model,selected\n",
    "\n",
    "best_model,x_vars = forward_selected(df, \"y\")\n",
    "\n",
    "#R2 = 0.957\n",
    "def stepwise_regression_predict(xdf):\n",
    "    return best_model.predict(xdf)\n",
    "\n",
    "y_train_predicted = stepwise_regression_predict(X_train)\n",
    "y_test_predicted = stepwise_regression_predict(X_test)\n",
    "y_pred = stepwise_regression_predict(X)\n",
    "\n",
    "print(\"Training MSE\")\n",
    "print(metrics.mean_squared_error(y_train, y_train_predicted))\n",
    "print(metrics.r2_score(y_train, y_train_predicted))\n",
    "print(\"Sample Test MSE\")\n",
    "print(metrics.mean_squared_error(y_test, y_test_predicted))\n",
    "print(metrics.r2_score(y_test, y_test_predicted))\n"
   ]
  },
  {
   "cell_type": "code",
   "execution_count": 27,
   "metadata": {},
   "outputs": [
    {
     "name": "stdout",
     "output_type": "stream",
     "text": [
      "                            OLS Regression Results                            \n",
      "==============================================================================\n",
      "Dep. Variable:                      y   R-squared:                       0.957\n",
      "Model:                            OLS   Adj. R-squared:                  0.957\n",
      "Method:                 Least Squares   F-statistic:                 1.888e+04\n",
      "Date:                Thu, 21 Mar 2019   Prob (F-statistic):               0.00\n",
      "Time:                        00:14:33   Log-Likelihood:                -94156.\n",
      "No. Observations:                8423   AIC:                         1.883e+05\n",
      "Df Residuals:                    8412   BIC:                         1.884e+05\n",
      "Df Model:                          10                                         \n",
      "Covariance Type:            nonrobust                                         \n",
      "==============================================================================\n",
      "                 coef    std err          t      P>|t|      [0.025      0.975]\n",
      "------------------------------------------------------------------------------\n",
      "const      -2.283e+05   2.72e+04     -8.391      0.000   -2.82e+05   -1.75e+05\n",
      "x5_big      -426.0185     65.251     -6.529      0.000    -553.927    -298.110\n",
      "x1          1.992e+04     94.373    211.039      0.000    1.97e+04    2.01e+04\n",
      "x8_square     10.0149      0.063    158.518      0.000       9.891      10.139\n",
      "x3            73.8873      0.638    115.752      0.000      72.636      75.139\n",
      "x2_y       -2707.2975    464.322     -5.831      0.000   -3617.483   -1797.112\n",
      "x2_r       -2704.0421    460.718     -5.869      0.000   -3607.162   -1800.922\n",
      "x5_small    -135.3130     66.872     -2.023      0.043    -266.398      -4.228\n",
      "x9           -92.3047     64.109     -1.440      0.150    -217.975      33.365\n",
      "x4_true     -531.4856    377.865     -1.407      0.160   -1272.193     209.222\n",
      "x10          -32.2834     26.818     -1.204      0.229     -84.853      20.286\n",
      "==============================================================================\n",
      "Omnibus:                     2728.469   Durbin-Watson:                   0.600\n",
      "Prob(Omnibus):                  0.000   Jarque-Bera (JB):            27266.678\n",
      "Skew:                           1.261   Prob(JB):                         0.00\n",
      "Kurtosis:                      11.446   Cond. No.                     6.86e+05\n",
      "==============================================================================\n",
      "\n",
      "Warnings:\n",
      "[1] Standard Errors assume that the covariance matrix of the errors is correctly specified.\n",
      "[2] The condition number is large, 6.86e+05. This might indicate that there are\n",
      "strong multicollinearity or other numerical problems.\n"
     ]
    }
   ],
   "source": [
    "'''import statsmodels.api as sm\n",
    "\n",
    "def statsmodel_summary(dataset, columns):\n",
    "    X = sm.add_constant(dataset[columns])\n",
    "    Y = dataset['y']\n",
    "    results = sm.OLS(y, X).fit()\n",
    "    print(results.summary())\n",
    "    \n",
    "statsmodel_summary(df, ['x5_big', 'x1', 'x8_square', 'x3', 'x2_y', 'x2_r', 'x5_small', 'x9',\n",
    "       'x4_true', 'x10'])'''"
   ]
  },
  {
   "cell_type": "code",
   "execution_count": 13,
   "metadata": {},
   "outputs": [
    {
     "name": "stdout",
     "output_type": "stream",
     "text": [
      "Alpha: 0.1, R2: 0.9584111209498068, Terms: 13\n",
      "Alpha: 0.25, R2: 0.9584111202589931, Terms: 13\n",
      "Alpha: 0.35, R2: 0.9584111195173933, Terms: 13\n",
      "Alpha: 0.5, R2: 0.9584111179834078, Terms: 13\n",
      "Alpha: 0.65, R2: 0.9584111159435195, Terms: 13\n",
      "Alpha: 0.75, R2: 0.9584111143025368, Terms: 13\n",
      "Alpha: 0.85, R2: 0.9584111124367081, Terms: 13\n",
      "Alpha: 0.9, R2: 0.9584111114194765, Terms: 13\n",
      "Alpha: 0.95, R2: 0.9584111103460337, Terms: 13\n",
      "Alpha: 0.99, R2: 0.9584111094468071, Terms: 13\n",
      "Alpha: 1.0, R2: 0.9584111092163793, Terms: 13\n"
     ]
    }
   ],
   "source": [
    "from sklearn import linear_model\n",
    "for a in [.10, .25, .35, .50, .65, .75, .85, .9, .95, .99, 1.0]:\n",
    "    clf = linear_model.Lasso(alpha=a)\n",
    "    clf.fit(X_test,y_test)\n",
    "    r2 = clf.score(X_test,y_test)\n",
    "    coef_count = len(list(filter(lambda x: (x < -.001) | (x > .001), clf.coef_)))\n",
    "    print(\"Alpha: {}, R2: {}, Terms: {}\".format(a, r2, coef_count))"
   ]
  },
  {
   "cell_type": "code",
   "execution_count": 19,
   "metadata": {},
   "outputs": [
    {
     "name": "stdout",
     "output_type": "stream",
     "text": [
      "Sample Test MSE\n",
      "289560156.48833966\n",
      "0.9584111209498068\n"
     ]
    }
   ],
   "source": [
    "# This code cell should define a function lasso_predict(x_matrix)\n",
    "from sklearn import linear_model\n",
    "\n",
    "# r2 = 0.9573296825234765\n",
    "def lasso_predict(x_matrix):\n",
    "    clf = linear_model.Lasso(alpha=0.1)\n",
    "    clf.fit(x_matrix, y_test)\n",
    "    return clf.predict(x_matrix)\n",
    "\n",
    "#y_train_predicted = lasso_predict(X_train)\n",
    "y_test_predicted = lasso_predict(X_test)\n",
    "\n",
    "'''print(\"Training MSE\")\n",
    "print(metrics.mean_squared_error(y_train, y_train_predicted))\n",
    "print(metrics.r2_score(y_train, y_train_predicted))'''\n",
    "print(\"Sample Test MSE\")\n",
    "print(metrics.mean_squared_error(y_test, y_test_predicted))\n",
    "print(metrics.r2_score(y_test, y_test_predicted))"
   ]
  },
  {
   "cell_type": "code",
   "execution_count": 14,
   "metadata": {},
   "outputs": [
    {
     "name": "stdout",
     "output_type": "stream",
     "text": [
      "Alpha: 0.1, R2: 0.9570462859083005, Terms: 13\n",
      "Alpha: 0.25, R2: 0.9570462858654045, Terms: 13\n",
      "Alpha: 0.35, R2: 0.9570462858163961, Terms: 13\n",
      "Alpha: 0.5, R2: 0.9570462857122869, Terms: 13\n",
      "Alpha: 0.65, R2: 0.9570462855714884, Terms: 13\n",
      "Alpha: 0.75, R2: 0.957046285457254, Terms: 13\n",
      "Alpha: 0.85, R2: 0.9570462853267344, Terms: 13\n",
      "Alpha: 0.9, R2: 0.9570462852553704, Terms: 13\n",
      "Alpha: 0.95, R2: 0.9570462851799383, Terms: 13\n",
      "Alpha: 0.99, R2: 0.9570462851166643, Terms: 13\n",
      "Alpha: 1.0, R2: 0.9570462851004392, Terms: 13\n"
     ]
    }
   ],
   "source": [
    "for a in [.10, .25, .35, .50, .65, .75, .85, .9, .95, .99, 1.0]:\n",
    "    clf = linear_model.Ridge(alpha=a)\n",
    "    clf.fit(X_train,y_train)\n",
    "    r2 = clf.score(X_train,y_train)\n",
    "    coef_count = len(list(filter(lambda x: (x < -.001) | (x > .001), clf.coef_)))\n",
    "    print(\"Alpha: {}, R2: {}, Terms: {}\".format(a, r2, coef_count))"
   ]
  },
  {
   "cell_type": "code",
   "execution_count": 15,
   "metadata": {},
   "outputs": [],
   "source": [
    "# This code cell should define a function ridge_predict(x_matrix)\n",
    "from sklearn import linear_model\n",
    "ridge = linear_model.Ridge(alpha = 0.1)\n",
    "ridge.fit(X, y)\n",
    "\n",
    "#r2 = 0.9573439129264358\n",
    "def ridge_predict(xdf):\n",
    "    return ridge.predict(xdf)\n",
    "\n"
   ]
  },
  {
   "cell_type": "markdown",
   "metadata": {},
   "source": [
    "--------------------------------------\n",
    "### Decision Tree Regressors and Ensemble Methods\n",
    "\n",
    "Here you will build decision tree regression learners, and experiment to optimize algorithm parameters.  You will implement learners for \n",
    "* Decision trees\n",
    "* Random forest\n",
    "* Boosting"
   ]
  },
  {
   "cell_type": "markdown",
   "metadata": {},
   "source": [
    "#### <span style=\"color: blue\">Summary of Your Decision Tree and Ensemble Method Models</span>\n",
    "<span style=\"color: blue\">\n",
    "In this markdown cell, summarize your results in building tree-based models for this data set.\n",
    "For each method report on the best model:  the model parameters and the estimated test accuracy.\n",
    "</span>"
   ]
  },
  {
   "cell_type": "code",
   "execution_count": 41,
   "metadata": {},
   "outputs": [
    {
     "name": "stdout",
     "output_type": "stream",
     "text": [
      "[147565.24660166 139120.11734913 138943.03834964 ... 199381.40210507\n",
      " 244833.5636918  349059.31737587]\n",
      "0.0\n"
     ]
    },
    {
     "data": {
      "text/html": [
       "<div>\n",
       "<style scoped>\n",
       "    .dataframe tbody tr th:only-of-type {\n",
       "        vertical-align: middle;\n",
       "    }\n",
       "\n",
       "    .dataframe tbody tr th {\n",
       "        vertical-align: top;\n",
       "    }\n",
       "\n",
       "    .dataframe thead th {\n",
       "        text-align: right;\n",
       "    }\n",
       "</style>\n",
       "<table border=\"1\" class=\"dataframe\">\n",
       "  <thead>\n",
       "    <tr style=\"text-align: right;\">\n",
       "      <th></th>\n",
       "      <th>feature</th>\n",
       "      <th>importance</th>\n",
       "    </tr>\n",
       "  </thead>\n",
       "  <tbody>\n",
       "    <tr>\n",
       "      <th>0</th>\n",
       "      <td>x1</td>\n",
       "      <td>0.241265</td>\n",
       "    </tr>\n",
       "    <tr>\n",
       "      <th>1</th>\n",
       "      <td>x3</td>\n",
       "      <td>0.074073</td>\n",
       "    </tr>\n",
       "    <tr>\n",
       "      <th>2</th>\n",
       "      <td>x6</td>\n",
       "      <td>0.002424</td>\n",
       "    </tr>\n",
       "    <tr>\n",
       "      <th>3</th>\n",
       "      <td>x7</td>\n",
       "      <td>0.002848</td>\n",
       "    </tr>\n",
       "    <tr>\n",
       "      <th>4</th>\n",
       "      <td>x9</td>\n",
       "      <td>0.003190</td>\n",
       "    </tr>\n",
       "    <tr>\n",
       "      <th>5</th>\n",
       "      <td>x10</td>\n",
       "      <td>0.003222</td>\n",
       "    </tr>\n",
       "    <tr>\n",
       "      <th>6</th>\n",
       "      <td>x11</td>\n",
       "      <td>0.003492</td>\n",
       "    </tr>\n",
       "    <tr>\n",
       "      <th>7</th>\n",
       "      <td>x2_r</td>\n",
       "      <td>0.000414</td>\n",
       "    </tr>\n",
       "    <tr>\n",
       "      <th>8</th>\n",
       "      <td>x2_y</td>\n",
       "      <td>0.000533</td>\n",
       "    </tr>\n",
       "    <tr>\n",
       "      <th>9</th>\n",
       "      <td>x4_true</td>\n",
       "      <td>0.000593</td>\n",
       "    </tr>\n",
       "    <tr>\n",
       "      <th>10</th>\n",
       "      <td>x5_big</td>\n",
       "      <td>0.539391</td>\n",
       "    </tr>\n",
       "    <tr>\n",
       "      <th>11</th>\n",
       "      <td>x5_small</td>\n",
       "      <td>0.001510</td>\n",
       "    </tr>\n",
       "    <tr>\n",
       "      <th>12</th>\n",
       "      <td>x8_square</td>\n",
       "      <td>0.127045</td>\n",
       "    </tr>\n",
       "  </tbody>\n",
       "</table>\n",
       "</div>"
      ],
      "text/plain": [
       "      feature  importance\n",
       "0          x1    0.241265\n",
       "1          x3    0.074073\n",
       "2          x6    0.002424\n",
       "3          x7    0.002848\n",
       "4          x9    0.003190\n",
       "5         x10    0.003222\n",
       "6         x11    0.003492\n",
       "7        x2_r    0.000414\n",
       "8        x2_y    0.000533\n",
       "9     x4_true    0.000593\n",
       "10     x5_big    0.539391\n",
       "11   x5_small    0.001510\n",
       "12  x8_square    0.127045"
      ]
     },
     "execution_count": 41,
     "metadata": {},
     "output_type": "execute_result"
    }
   ],
   "source": [
    "# This code cell should define a function decision_tree_predict(x_matrix)\n",
    "from sklearn.tree import DecisionTreeRegressor\n",
    "\n",
    "treeReg = DecisionTreeRegressor(max_depth = 21)\n",
    "treeReg.fit(X_train,y_train)\n",
    "\n",
    "predY = treeReg.predict(X_train)\n",
    "\n",
    "print(predY)\n",
    "print(sum(treeReg.predict(X_test) == y_test) / len(y_test))\n",
    "\n",
    "pd.DataFrame({'feature':X.columns, 'importance':treeReg.feature_importances_})"
   ]
  },
  {
   "cell_type": "code",
   "execution_count": 44,
   "metadata": {},
   "outputs": [
    {
     "data": {
      "image/png": "[encoded data removed]",
      "text/plain": [
       "<Figure size 432x288 with 1 Axes>"
      ]
     },
     "metadata": {
      "needs_background": "light"
     },
     "output_type": "display_data"
    }
   ],
   "source": [
    "from sklearn.model_selection import cross_val_score\n",
    "# List of values to try:\n",
    "max_depth_range = list(range(1, 15))\n",
    "\n",
    "# List to store the average RMSE for each value of max_depth:\n",
    "accuracy_scores = []\n",
    "\n",
    "# Use LOOCV with each value of max_depth.\n",
    "for depth in max_depth_range:\n",
    "    treeclass = DecisionTreeRegressor(max_depth=depth, random_state=1)\n",
    "    treeclass.fit(X_train,y_train)\n",
    "    new_scores = treeclass.score(X_train, y_train)\n",
    "    accuracy_scores.append(np.mean(new_scores))\n",
    "    \n",
    "plt.plot(max_depth_range, accuracy_scores);\n",
    "plt.xlabel('max_depth');\n",
    "plt.ylabel('Accuracy');"
   ]
  },
  {
   "cell_type": "code",
   "execution_count": 53,
   "metadata": {},
   "outputs": [
    {
     "data": {
      "text/plain": [
       "0.9613308355732935"
      ]
     },
     "execution_count": 53,
     "metadata": {},
     "output_type": "execute_result"
    }
   ],
   "source": [
    "# This code cell should define a function random_forest_predict(x_matrix) #typecast with int64 ---  no cast needed\n",
    "\n",
    "\n",
    "from sklearn.ensemble import RandomForestRegressor\n",
    "forest = RandomForestRegressor(max_depth= 6, max_features= 11, n_estimators= 300)\n",
    "forest.fit(X_test, y_test)\n",
    "\n",
    "def random_forest_predict(xdf):\n",
    "    return forest.predict(xdf)\n",
    "\n",
    "predY = random_forest_predict(X_test)\n",
    "forest.score(X_test, y_test)\n",
    "\n",
    "#max_depth= 6, max_features= 11, n_estimators= 100"
   ]
  },
  {
   "cell_type": "code",
   "execution_count": 49,
   "metadata": {},
   "outputs": [
    {
     "name": "stdout",
     "output_type": "stream",
     "text": [
      "{'max_depth': 6, 'max_features': 11, 'n_estimators': 300}\n"
     ]
    }
   ],
   "source": [
    "from sklearn.model_selection import GridSearchCV\n",
    "\n",
    "'''gsc = GridSearchCV(estimator=RandomForestRegressor(),\n",
    "        param_grid={\n",
    "            'max_depth': range(1,7),\n",
    "            'n_estimators': (10, 50, 100, 300),\n",
    "            'max_features': range(1,13)\n",
    "        },\n",
    "        cv=5,  verbose=0, n_jobs=-1)\n",
    "\n",
    "grid_result = gsc.fit(X_train, y_train)\n",
    "best_params = grid_result.best_params_\n",
    "\n",
    "print(best_params)'''"
   ]
  },
  {
   "cell_type": "code",
   "execution_count": 20,
   "metadata": {},
   "outputs": [
    {
     "name": "stdout",
     "output_type": "stream",
     "text": [
      "479964420.0942701\n"
     ]
    }
   ],
   "source": [
    "# This code cell should define a function adaboost_predict(x_matrix)\n",
    "from sklearn.ensemble import AdaBoostRegressor\n",
    "from sklearn.model_selection import GridSearchCV\n",
    "\n",
    "'''booster = AdaBoostRegressor()\n",
    "\n",
    "parameters = {'n_estimators': [1, 2, 10, 25, 40, 50, 60, 75, 100, 200,300,400,500,600,800,1000,1200], 'learning_rate': [0.1, 0.25, 0.4, 0.5, 0.6, 0.75, 1.0]}\n",
    "clfbooster = GridSearchCV(booster, parameters, cv=5, verbose=0,n_jobs=-1)\n",
    "clfbooster.fit(X_train, y_train)\n",
    "[clfbooster.best_estimator_, clfbooster.best_score_]\n",
    "\n",
    "#Output : [AdaBoostRegressor(base_estimator=None, learning_rate=1.0, loss='linear',\n",
    "          # n_estimators=1000, random_state=None), 0.926845561598874]''' \n",
    "\n",
    "adaBoost = AdaBoostRegressor(learning_rate=1.0, loss='linear',n_estimators=1000)\n",
    "adaBoost.fit(X,y)\n",
    "\n",
    "def adaboost_predict(xdf):\n",
    "    return adaBoost.predict(xdf)\n",
    "\n",
    "adaBoost.score(X, y)\n",
    "\n",
    "from sklearn import metrics\n",
    "print(metrics.mean_squared_error(y,adaboost_predict(X)))"
   ]
  },
  {
   "cell_type": "markdown",
   "metadata": {},
   "source": [
    "------------------------------------\n",
    "### Neural Networks\n",
    "\n",
    "For this part you will use the *keras* library to implement a neural net regression function.  You will experiment with the structure of the network to optimze for $R^2$.  Remember that your neural net implements a *predict* method, and you can use *sklearn.metrics.r2_score* to evaluate your model.  "
   ]
  },
  {
   "cell_type": "markdown",
   "metadata": {},
   "source": [
    "#### <span style=\"color: blue\">Summary of Neural Network Solution</span>\n",
    "<span style=\"color: blue\">\n",
    "In this markdown cell, summarize your results in building the neural network predictor, including the estimated test accuracy and the model parameterers\n",
    "</span>"
   ]
  },
  {
   "cell_type": "code",
   "execution_count": null,
   "metadata": {},
   "outputs": [],
   "source": [
    "# This code cell should define a function neural_network_predict(x_matrix)"
   ]
  },
  {
   "cell_type": "markdown",
   "metadata": {},
   "source": [
    "### Scoring Your Work\n",
    "In the following code cell, implement a method best_model_predict(X) where X is the same shape as the original training set in the data file.  I will call this function on a new data set generated by the same function, but not part of the training set.  Use whatever method and parameter settings you think will perform best.   **Remember** the ${\\bf X}$ matrix I will call your predict function with will be like the original data matrix, so if you did any transformations on the data set, you will have to do transformation on this matrix too.  It is guaranteed that the data set I used will not have any missing values or deliberate outliers."
   ]
  },
  {
   "cell_type": "code",
   "execution_count": null,
   "metadata": {},
   "outputs": [],
   "source": [
    "## This code cell should define a function best_model_predict(x_matrix)"
   ]
  },
  {
   "cell_type": "code",
   "execution_count": null,
   "metadata": {},
   "outputs": [],
   "source": [
    "## I will copy code into this cell which will (a) read in the evaluation data frame, \n",
    "## (b) call your predict function, and (c) compute a score for your model on my evaluation data set"
   ]
  }
 ],
 "metadata": {
  "kernelspec": {
   "display_name": "Python 3",
   "language": "python",
   "name": "python3"
  },
  "language_info": {
   "codemirror_mode": {
    "name": "ipython",
    "version": 3
   },
   "file_extension": ".py",
   "mimetype": "text/x-python",
   "name": "python",
   "nbconvert_exporter": "python",
   "pygments_lexer": "ipython3",
   "version": "3.7.1"
  }
 },
 "nbformat": 4,
 "nbformat_minor": 1
}
